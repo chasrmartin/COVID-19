{
 "cells": [
  {
   "cell_type": "markdown",
   "execution_count": null,
   "metadata": {},
   "outputs": [],
   "source": [
    "#### Numerical thought experiments on the COVID-19 data from Johns Hopkins University\n",
    "\n",
    "As the COVID-19 virus (formerly known as '2019-nCoV) progresses, more and more data is becoming available. As seems to happen often, the reporting in the Uniform Legacy Media is being filtered through two or three layers of press releases and poorly-understood quotes, so I am doing some of my own data science exploration of the published data. These notes are a record of that exploration.\n",
    "\n",
    "To start with, I have forked the [Johns Hopkins University repository](https://github.com/CSSEGISandData/COVID-19) of data from their Github, and put it in a public repository in my own github account (get a link), where I'm also going to keep these notes."
   ]
  },
  {
   "cell_type": "markdown",
   "execution_count": null,
   "metadata": {},
   "outputs": [],
   "source": [
    "We start by importing Python packages for use below."
   ]
  },
  {
   "cell_type": "code",
   "execution_count": 1,
   "metadata": {},
   "outputs": [],
   "source": [
    "import pandas as pd\n",
    "import matplotlib.pyplot as plt\n",
    "import numpy as np\n",
    "import collections\n",
    "import seaborn as sbs\n",
    "from math import log, log2, log10"
   ]
  },
  {
   "cell_type": "markdown",
   "execution_count": null,
   "metadata": {},
   "outputs": [],
   "source": [
    "`dcu_root` is the path to the root of the _Daily Case Updates_ provided by JHU."
   ]
  },
  {
   "cell_type": "code",
   "execution_count": 2,
   "metadata": {},
   "outputs": [],
   "source": [
    "dcu_root = \"./daily_case_updates/\""
   ]
  },
  {
   "cell_type": "markdown",
   "execution_count": null,
   "metadata": {},
   "outputs": [],
   "source": [
    "Individual data sets in this repository are named by data and time M/D/Y and the update time in UTC. I'm giving the data sets individual names with ISO-8601 dates because it's way more convenient, especially because I don't need to think about the ambiguous data format.\n"
   ]
  },
  {
   "cell_type": "code",
   "execution_count": 3,
   "metadata": {},
   "outputs": [],
   "source": [
    "dcu_20200212T1020Z = dcu_root + \"02-12-2020_1020.csv\"\n",
    "dcu_20200213T2115Z = dcu_root + \"02-13-2020_2115.csv\""
   ]
  },
  {
   "cell_type": "markdown",
   "execution_count": null,
   "metadata": {},
   "outputs": [],
   "source": [
    "Load the data in a Pandas data frame, creatively named `df`."
   ]
  },
  {
   "cell_type": "code",
   "execution_count": 4,
   "metadata": {},
   "outputs": [],
   "source": [
    "df = pd.read_csv(dcu_20200213T2115Z)"
   ]
  },
  {
   "cell_type": "code",
   "execution_count": 5,
   "metadata": {},
   "outputs": [
    {
     "data": {
      "text/html": "<div>\n<style scoped>\n    .dataframe tbody tr th:only-of-type {\n        vertical-align: middle;\n    }\n\n    .dataframe tbody tr th {\n        vertical-align: top;\n    }\n\n    .dataframe thead th {\n        text-align: right;\n    }\n</style>\n<table border=\"1\" class=\"dataframe\">\n  <thead>\n    <tr style=\"text-align: right;\">\n      <th></th>\n      <th>Province/State</th>\n      <th>Country/Region</th>\n      <th>Last Update</th>\n      <th>Confirmed</th>\n      <th>Deaths</th>\n      <th>Recovered</th>\n    </tr>\n  </thead>\n  <tbody>\n    <tr>\n      <th>0</th>\n      <td>Hubei</td>\n      <td>Mainland China</td>\n      <td>2020-02-14 00:13:23</td>\n      <td>51986</td>\n      <td>1426</td>\n      <td>4131</td>\n    </tr>\n    <tr>\n      <th>1</th>\n      <td>Guangdong</td>\n      <td>Mainland China</td>\n      <td>2020-02-14 01:23:02</td>\n      <td>1261</td>\n      <td>2</td>\n      <td>332</td>\n    </tr>\n    <tr>\n      <th>2</th>\n      <td>Henan</td>\n      <td>Mainland China</td>\n      <td>2020-02-14 01:13:05</td>\n      <td>1184</td>\n      <td>11</td>\n      <td>313</td>\n    </tr>\n    <tr>\n      <th>3</th>\n      <td>Zhejiang</td>\n      <td>Mainland China</td>\n      <td>2020-02-14 01:13:05</td>\n      <td>1155</td>\n      <td>0</td>\n      <td>367</td>\n    </tr>\n    <tr>\n      <th>4</th>\n      <td>Hunan</td>\n      <td>Mainland China</td>\n      <td>2020-02-14 01:23:02</td>\n      <td>988</td>\n      <td>2</td>\n      <td>352</td>\n    </tr>\n  </tbody>\n</table>\n</div>",
      "text/plain": "  Province/State  Country/Region          Last Update  Confirmed  Deaths  \\\n0          Hubei  Mainland China  2020-02-14 00:13:23      51986    1426   \n1      Guangdong  Mainland China  2020-02-14 01:23:02       1261       2   \n2          Henan  Mainland China  2020-02-14 01:13:05       1184      11   \n3       Zhejiang  Mainland China  2020-02-14 01:13:05       1155       0   \n4          Hunan  Mainland China  2020-02-14 01:23:02        988       2   \n\n   Recovered  \n0       4131  \n1        332  \n2        313  \n3        367  \n4        352  "
     },
     "execution_count": 5,
     "metadata": {},
     "output_type": "execute_result"
    }
   ],
   "source": [
    "df.head()\n"
   ]
  },
  {
   "cell_type": "code",
   "execution_count": 6,
   "metadata": {},
   "outputs": [],
   "source": [
    "mainland_china = df[df[\"Country/Region\"] == \"Mainland China\"]"
   ]
  },
  {
   "cell_type": "code",
   "execution_count": 7,
   "metadata": {},
   "outputs": [
    {
     "data": {
      "text/html": "<div>\n<style scoped>\n    .dataframe tbody tr th:only-of-type {\n        vertical-align: middle;\n    }\n\n    .dataframe tbody tr th {\n        vertical-align: top;\n    }\n\n    .dataframe thead th {\n        text-align: right;\n    }\n</style>\n<table border=\"1\" class=\"dataframe\">\n  <thead>\n    <tr style=\"text-align: right;\">\n      <th></th>\n      <th>Province/State</th>\n      <th>Country/Region</th>\n      <th>Last Update</th>\n      <th>Confirmed</th>\n      <th>Deaths</th>\n      <th>Recovered</th>\n    </tr>\n  </thead>\n  <tbody>\n    <tr>\n      <th>0</th>\n      <td>Hubei</td>\n      <td>Mainland China</td>\n      <td>2020-02-14 00:13:23</td>\n      <td>51986</td>\n      <td>1426</td>\n      <td>4131</td>\n    </tr>\n    <tr>\n      <th>1</th>\n      <td>Guangdong</td>\n      <td>Mainland China</td>\n      <td>2020-02-14 01:23:02</td>\n      <td>1261</td>\n      <td>2</td>\n      <td>332</td>\n    </tr>\n    <tr>\n      <th>2</th>\n      <td>Henan</td>\n      <td>Mainland China</td>\n      <td>2020-02-14 01:13:05</td>\n      <td>1184</td>\n      <td>11</td>\n      <td>313</td>\n    </tr>\n    <tr>\n      <th>3</th>\n      <td>Zhejiang</td>\n      <td>Mainland China</td>\n      <td>2020-02-14 01:13:05</td>\n      <td>1155</td>\n      <td>0</td>\n      <td>367</td>\n    </tr>\n    <tr>\n      <th>4</th>\n      <td>Hunan</td>\n      <td>Mainland China</td>\n      <td>2020-02-14 01:23:02</td>\n      <td>988</td>\n      <td>2</td>\n      <td>352</td>\n    </tr>\n  </tbody>\n</table>\n</div>",
      "text/plain": "  Province/State  Country/Region          Last Update  Confirmed  Deaths  \\\n0          Hubei  Mainland China  2020-02-14 00:13:23      51986    1426   \n1      Guangdong  Mainland China  2020-02-14 01:23:02       1261       2   \n2          Henan  Mainland China  2020-02-14 01:13:05       1184      11   \n3       Zhejiang  Mainland China  2020-02-14 01:13:05       1155       0   \n4          Hunan  Mainland China  2020-02-14 01:23:02        988       2   \n\n   Recovered  \n0       4131  \n1        332  \n2        313  \n3        367  \n4        352  "
     },
     "execution_count": 7,
     "metadata": {},
     "output_type": "execute_result"
    }
   ],
   "source": [
    "mainland_china.head()\n"
   ]
  },
  {
   "cell_type": "code",
   "execution_count": 8,
   "metadata": {},
   "outputs": [],
   "source": [
    "everywhere_else = df[df[\"Country/Region\"] != \"Mainland China\"]"
   ]
  },
  {
   "cell_type": "code",
   "execution_count": 9,
   "metadata": {},
   "outputs": [
    {
     "data": {
      "text/html": "<div>\n<style scoped>\n    .dataframe tbody tr th:only-of-type {\n        vertical-align: middle;\n    }\n\n    .dataframe tbody tr th {\n        vertical-align: top;\n    }\n\n    .dataframe thead th {\n        text-align: right;\n    }\n</style>\n<table border=\"1\" class=\"dataframe\">\n  <thead>\n    <tr style=\"text-align: right;\">\n      <th></th>\n      <th>Province/State</th>\n      <th>Country/Region</th>\n      <th>Last Update</th>\n      <th>Confirmed</th>\n      <th>Deaths</th>\n      <th>Recovered</th>\n    </tr>\n  </thead>\n  <tbody>\n    <tr>\n      <th>18</th>\n      <td>Diamond Princess cruise ship</td>\n      <td>Others</td>\n      <td>2020-02-14 00:13:23</td>\n      <td>218</td>\n      <td>0</td>\n      <td>0</td>\n    </tr>\n    <tr>\n      <th>30</th>\n      <td>NaN</td>\n      <td>Singapore</td>\n      <td>2020-02-13 14:33:02</td>\n      <td>58</td>\n      <td>0</td>\n      <td>15</td>\n    </tr>\n    <tr>\n      <th>31</th>\n      <td>Hong Kong</td>\n      <td>Hong Kong</td>\n      <td>2020-02-13 14:53:02</td>\n      <td>53</td>\n      <td>1</td>\n      <td>1</td>\n    </tr>\n    <tr>\n      <th>32</th>\n      <td>NaN</td>\n      <td>Thailand</td>\n      <td>2020-02-13 17:53:03</td>\n      <td>33</td>\n      <td>0</td>\n      <td>12</td>\n    </tr>\n    <tr>\n      <th>33</th>\n      <td>NaN</td>\n      <td>Japan</td>\n      <td>2020-02-13 12:23:05</td>\n      <td>28</td>\n      <td>1</td>\n      <td>9</td>\n    </tr>\n  </tbody>\n</table>\n</div>",
      "text/plain": "                  Province/State Country/Region          Last Update  \\\n18  Diamond Princess cruise ship         Others  2020-02-14 00:13:23   \n30                           NaN      Singapore  2020-02-13 14:33:02   \n31                     Hong Kong      Hong Kong  2020-02-13 14:53:02   \n32                           NaN       Thailand  2020-02-13 17:53:03   \n33                           NaN          Japan  2020-02-13 12:23:05   \n\n    Confirmed  Deaths  Recovered  \n18        218       0          0  \n30         58       0         15  \n31         53       1          1  \n32         33       0         12  \n33         28       1          9  "
     },
     "execution_count": 9,
     "metadata": {},
     "output_type": "execute_result"
    }
   ],
   "source": [
    "everywhere_else.head()"
   ]
  },
  {
   "cell_type": "code",
   "execution_count": 10,
   "metadata": {},
   "outputs": [],
   "source": [
    "china_deaths = mainland_china[\"Deaths\"]"
   ]
  },
  {
   "cell_type": "code",
   "execution_count": 11,
   "metadata": {},
   "outputs": [
    {
     "data": {
      "text/plain": "0.023307905577920146"
     },
     "execution_count": 11,
     "metadata": {},
     "output_type": "execute_result"
    }
   ],
   "source": [
    "sum(china_deaths)/sum(mainland_china.Confirmed)"
   ]
  },
  {
   "cell_type": "code",
   "execution_count": 12,
   "metadata": {},
   "outputs": [
    {
     "data": {
      "text/plain": "0.0051635111876075735"
     },
     "execution_count": 12,
     "metadata": {},
     "output_type": "execute_result"
    }
   ],
   "source": [
    "sum(everywhere_else.Deaths)/sum(everywhere_else.Confirmed)"
   ]
  },
  {
   "cell_type": "code",
   "execution_count": 13,
   "metadata": {},
   "outputs": [
    {
     "data": {
      "text/plain": "43"
     },
     "execution_count": 13,
     "metadata": {},
     "output_type": "execute_result"
    }
   ],
   "source": [
    "len(everywhere_else.Confirmed)"
   ]
  },
  {
   "cell_type": "code",
   "execution_count": 14,
   "metadata": {},
   "outputs": [
    {
     "data": {
      "text/plain": "63841"
     },
     "execution_count": 14,
     "metadata": {},
     "output_type": "execute_result"
    }
   ],
   "source": [
    "sum(mainland_china.Confirmed)"
   ]
  },
  {
   "cell_type": "code",
   "execution_count": 15,
   "metadata": {},
   "outputs": [
    {
     "data": {
      "text/plain": "64422"
     },
     "execution_count": 15,
     "metadata": {},
     "output_type": "execute_result"
    }
   ],
   "source": [
    "sum(df.Confirmed)"
   ]
  },
  {
   "cell_type": "markdown",
   "execution_count": null,
   "metadata": {},
   "outputs": [],
   "source": [
    "So, now the question that has been on everyone's mind is whether the Chinese Government is understating the number of cases or the mortality. There's good reason to suspect the number of confirmed cases might be understated, for two reasons:\n",
    "1. It appears that there are many cases of infection by COVID-19 that aren't being reported. There are several reasons for that:\n",
    "    - a mild case of COVID-19 is pretty much indistinguishable from a common cold. (In fact, coronaviruses account for many of the cases of the \"common cold\" — \"common cold\" is a description of a syndrome that can be caused by many different viruses.)\n",
    "    - If you have a \"cold\" and visit a doctor, and it's confirmed to be COVID-19, you may be confined to a makeshift quarantine hospital.\n",
    "    - The Chinese government is encouraging people with only mild symptoms not to overload the already-stressed medical facilities.\n",
    "2. Simulations based on cases _outside_ China (reported by [Gardner and others](https://systems.jhu.edu/research/public-health/ncov-model-2/)) and including the best observed estimates of $R_0$ suggest that the number of real infections is considerably larger — perhaps as much as 10 times larger — than the reported number of confirmed infections."
   ]
  },
  {
   "cell_type": "markdown",
   "execution_count": null,
   "metadata": {},
   "outputs": [],
   "source": [
    "Now, Gardner's paper mentions several reasons why their estimate might be high or low, so let's look at all three cases."
   ]
  },
  {
   "cell_type": "code",
   "execution_count": null,
   "metadata": {},
   "outputs": [],
   "source": []
  }
 ],
 "metadata": {
  "kernelspec": {
   "display_name": "Python 3",
   "language": "python",
   "name": "python3"
  },
  "language_info": {
   "codemirror_mode": {
    "name": "ipython",
    "version": 3
   },
   "file_extension": ".py",
   "mimetype": "text/x-python",
   "name": "python",
   "nbconvert_exporter": "python",
   "pygments_lexer": "ipython3",
   "version": "3.7.6-final"
  }
 },
 "nbformat": 4,
 "nbformat_minor": 4
}