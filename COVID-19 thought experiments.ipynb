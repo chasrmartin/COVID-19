{
 "cells": [
  {
   "cell_type": "markdown",
   "metadata": {},
   "source": [
    "#### Numerical thought experiments on the COVID-19 data from Johns Hopkins University\n",
    "\n",
    "As the COVID-19 virus (formerly known as '2019-nCoV) progresses, more and more data is becoming available. As seems to happen often, the reporting in the Uniform Legacy Media is being filtered through two or three layers of press releases and poorly-understood quotes, so I am doing some of my own data science exploration of the published data. These notes are a record of that exploration.\n",
    "\n",
    "To start with, I have forked the [Johns Hopkins University repository](https://github.com/CSSEGISandData/COVID-19) of data from their Github, and put it in a public repository in my own github account (get a link), where I'm also going to keep these notes."
   ]
  },
  {
   "cell_type": "markdown",
   "metadata": {},
   "source": [
    "We start by importing Python packages for use below."
   ]
  },
  {
   "cell_type": "code",
   "execution_count": 1,
   "metadata": {},
   "outputs": [],
   "source": [
    "import pandas as pd\n",
    "import matplotlib.pyplot as plt\n",
    "import numpy as np\n",
    "import collections\n",
    "import seaborn as sbs\n",
    "from math import log, log2, log10"
   ]
  },
  {
   "cell_type": "markdown",
   "metadata": {},
   "source": [
    "`dcu_root` is the path to the root of the _Daily Case Updates_ provided by JHU."
   ]
  },
  {
   "cell_type": "code",
   "execution_count": null,
   "metadata": {},
   "outputs": [],
   "source": [
    "dcu_root = \"./daily_case_updates/\""
   ]
  },
  {
   "cell_type": "markdown",
   "metadata": {},
   "source": [
    "Individual data sets in this repository are named by data and time M/D/Y and the update time in UTC. I'm giving the data sets individual names with ISO-8601 dates because it's way more convenient, especially because I don't need to think about the ambiguous data format.\n"
   ]
  },
  {
   "cell_type": "code",
   "execution_count": 6,
   "metadata": {},
   "outputs": [],
   "source": [
    "dcu_20200212T1020Z = dcu_root + \"02-12-2020_1020.csv\""
   ]
  },
  {
   "cell_type": "markdown",
   "metadata": {},
   "source": [
    "Load the data in a Pandas data frame, creatively named `df`."
   ]
  },
  {
   "cell_type": "code",
   "execution_count": 7,
   "metadata": {},
   "outputs": [],
   "source": [
    "df = pd.read_csv(dcu_20200212T1020Z)"
   ]
  },
  {
   "cell_type": "code",
   "execution_count": 10,
   "metadata": {},
   "outputs": [
    {
     "data": {
      "text/html": [
       "<div>\n",
       "<style scoped>\n",
       "    .dataframe tbody tr th:only-of-type {\n",
       "        vertical-align: middle;\n",
       "    }\n",
       "\n",
       "    .dataframe tbody tr th {\n",
       "        vertical-align: top;\n",
       "    }\n",
       "\n",
       "    .dataframe thead th {\n",
       "        text-align: right;\n",
       "    }\n",
       "</style>\n",
       "<table border=\"1\" class=\"dataframe\">\n",
       "  <thead>\n",
       "    <tr style=\"text-align: right;\">\n",
       "      <th></th>\n",
       "      <th>Province/State</th>\n",
       "      <th>Country/Region</th>\n",
       "      <th>Last Update</th>\n",
       "      <th>Confirmed</th>\n",
       "      <th>Deaths</th>\n",
       "      <th>Recovered</th>\n",
       "    </tr>\n",
       "  </thead>\n",
       "  <tbody>\n",
       "    <tr>\n",
       "      <th>0</th>\n",
       "      <td>Hubei</td>\n",
       "      <td>Mainland China</td>\n",
       "      <td>2020-02-12 14:13:08</td>\n",
       "      <td>33366</td>\n",
       "      <td>1068</td>\n",
       "      <td>2686</td>\n",
       "    </tr>\n",
       "    <tr>\n",
       "      <th>1</th>\n",
       "      <td>Guangdong</td>\n",
       "      <td>Mainland China</td>\n",
       "      <td>2020-02-12 12:23:09</td>\n",
       "      <td>1219</td>\n",
       "      <td>1</td>\n",
       "      <td>275</td>\n",
       "    </tr>\n",
       "    <tr>\n",
       "      <th>2</th>\n",
       "      <td>Henan</td>\n",
       "      <td>Mainland China</td>\n",
       "      <td>2020-02-12 14:13:08</td>\n",
       "      <td>1135</td>\n",
       "      <td>8</td>\n",
       "      <td>246</td>\n",
       "    </tr>\n",
       "    <tr>\n",
       "      <th>3</th>\n",
       "      <td>Zhejiang</td>\n",
       "      <td>Mainland China</td>\n",
       "      <td>2020-02-12 10:13:20</td>\n",
       "      <td>1131</td>\n",
       "      <td>0</td>\n",
       "      <td>321</td>\n",
       "    </tr>\n",
       "    <tr>\n",
       "      <th>4</th>\n",
       "      <td>Hunan</td>\n",
       "      <td>Mainland China</td>\n",
       "      <td>2020-02-12 12:43:03</td>\n",
       "      <td>946</td>\n",
       "      <td>2</td>\n",
       "      <td>304</td>\n",
       "    </tr>\n",
       "  </tbody>\n",
       "</table>\n",
       "</div>"
      ],
      "text/plain": [
       "  Province/State  Country/Region          Last Update  Confirmed  Deaths  \\\n",
       "0          Hubei  Mainland China  2020-02-12 14:13:08      33366    1068   \n",
       "1      Guangdong  Mainland China  2020-02-12 12:23:09       1219       1   \n",
       "2          Henan  Mainland China  2020-02-12 14:13:08       1135       8   \n",
       "3       Zhejiang  Mainland China  2020-02-12 10:13:20       1131       0   \n",
       "4          Hunan  Mainland China  2020-02-12 12:43:03        946       2   \n",
       "\n",
       "   Recovered  \n",
       "0       2686  \n",
       "1        275  \n",
       "2        246  \n",
       "3        321  \n",
       "4        304  "
      ]
     },
     "execution_count": 10,
     "metadata": {},
     "output_type": "execute_result"
    }
   ],
   "source": [
    "df.head()\n"
   ]
  },
  {
   "cell_type": "code",
   "execution_count": 13,
   "metadata": {},
   "outputs": [],
   "source": [
    "mainland_china = df[df[\"Country/Region\"] == \"Mainland China\"]"
   ]
  },
  {
   "cell_type": "code",
   "execution_count": 14,
   "metadata": {},
   "outputs": [
    {
     "data": {
      "text/html": [
       "<div>\n",
       "<style scoped>\n",
       "    .dataframe tbody tr th:only-of-type {\n",
       "        vertical-align: middle;\n",
       "    }\n",
       "\n",
       "    .dataframe tbody tr th {\n",
       "        vertical-align: top;\n",
       "    }\n",
       "\n",
       "    .dataframe thead th {\n",
       "        text-align: right;\n",
       "    }\n",
       "</style>\n",
       "<table border=\"1\" class=\"dataframe\">\n",
       "  <thead>\n",
       "    <tr style=\"text-align: right;\">\n",
       "      <th></th>\n",
       "      <th>Province/State</th>\n",
       "      <th>Country/Region</th>\n",
       "      <th>Last Update</th>\n",
       "      <th>Confirmed</th>\n",
       "      <th>Deaths</th>\n",
       "      <th>Recovered</th>\n",
       "    </tr>\n",
       "  </thead>\n",
       "  <tbody>\n",
       "    <tr>\n",
       "      <th>0</th>\n",
       "      <td>Hubei</td>\n",
       "      <td>Mainland China</td>\n",
       "      <td>2020-02-12 14:13:08</td>\n",
       "      <td>33366</td>\n",
       "      <td>1068</td>\n",
       "      <td>2686</td>\n",
       "    </tr>\n",
       "    <tr>\n",
       "      <th>1</th>\n",
       "      <td>Guangdong</td>\n",
       "      <td>Mainland China</td>\n",
       "      <td>2020-02-12 12:23:09</td>\n",
       "      <td>1219</td>\n",
       "      <td>1</td>\n",
       "      <td>275</td>\n",
       "    </tr>\n",
       "    <tr>\n",
       "      <th>2</th>\n",
       "      <td>Henan</td>\n",
       "      <td>Mainland China</td>\n",
       "      <td>2020-02-12 14:13:08</td>\n",
       "      <td>1135</td>\n",
       "      <td>8</td>\n",
       "      <td>246</td>\n",
       "    </tr>\n",
       "    <tr>\n",
       "      <th>3</th>\n",
       "      <td>Zhejiang</td>\n",
       "      <td>Mainland China</td>\n",
       "      <td>2020-02-12 10:13:20</td>\n",
       "      <td>1131</td>\n",
       "      <td>0</td>\n",
       "      <td>321</td>\n",
       "    </tr>\n",
       "    <tr>\n",
       "      <th>4</th>\n",
       "      <td>Hunan</td>\n",
       "      <td>Mainland China</td>\n",
       "      <td>2020-02-12 12:43:03</td>\n",
       "      <td>946</td>\n",
       "      <td>2</td>\n",
       "      <td>304</td>\n",
       "    </tr>\n",
       "  </tbody>\n",
       "</table>\n",
       "</div>"
      ],
      "text/plain": [
       "  Province/State  Country/Region          Last Update  Confirmed  Deaths  \\\n",
       "0          Hubei  Mainland China  2020-02-12 14:13:08      33366    1068   \n",
       "1      Guangdong  Mainland China  2020-02-12 12:23:09       1219       1   \n",
       "2          Henan  Mainland China  2020-02-12 14:13:08       1135       8   \n",
       "3       Zhejiang  Mainland China  2020-02-12 10:13:20       1131       0   \n",
       "4          Hunan  Mainland China  2020-02-12 12:43:03        946       2   \n",
       "\n",
       "   Recovered  \n",
       "0       2686  \n",
       "1        275  \n",
       "2        246  \n",
       "3        321  \n",
       "4        304  "
      ]
     },
     "execution_count": 14,
     "metadata": {},
     "output_type": "execute_result"
    }
   ],
   "source": [
    "mainland_china.head()\n"
   ]
  },
  {
   "cell_type": "code",
   "execution_count": 16,
   "metadata": {},
   "outputs": [],
   "source": [
    "everywhere_else = df[df[\"Country/Region\"] != \"Mainland China\"]"
   ]
  },
  {
   "cell_type": "code",
   "execution_count": 17,
   "metadata": {},
   "outputs": [
    {
     "data": {
      "text/html": [
       "<div>\n",
       "<style scoped>\n",
       "    .dataframe tbody tr th:only-of-type {\n",
       "        vertical-align: middle;\n",
       "    }\n",
       "\n",
       "    .dataframe tbody tr th {\n",
       "        vertical-align: top;\n",
       "    }\n",
       "\n",
       "    .dataframe thead th {\n",
       "        text-align: right;\n",
       "    }\n",
       "</style>\n",
       "<table border=\"1\" class=\"dataframe\">\n",
       "  <thead>\n",
       "    <tr style=\"text-align: right;\">\n",
       "      <th></th>\n",
       "      <th>Province/State</th>\n",
       "      <th>Country/Region</th>\n",
       "      <th>Last Update</th>\n",
       "      <th>Confirmed</th>\n",
       "      <th>Deaths</th>\n",
       "      <th>Recovered</th>\n",
       "    </tr>\n",
       "  </thead>\n",
       "  <tbody>\n",
       "    <tr>\n",
       "      <th>18</th>\n",
       "      <td>Diamond Princess cruise ship</td>\n",
       "      <td>Others</td>\n",
       "      <td>2020-02-12 04:23:38</td>\n",
       "      <td>175</td>\n",
       "      <td>0</td>\n",
       "      <td>0</td>\n",
       "    </tr>\n",
       "    <tr>\n",
       "      <th>30</th>\n",
       "      <td>Hong Kong</td>\n",
       "      <td>Hong Kong</td>\n",
       "      <td>2020-02-12 09:53:02</td>\n",
       "      <td>50</td>\n",
       "      <td>1</td>\n",
       "      <td>1</td>\n",
       "    </tr>\n",
       "    <tr>\n",
       "      <th>31</th>\n",
       "      <td>NaN</td>\n",
       "      <td>Singapore</td>\n",
       "      <td>2020-02-11 16:43:06</td>\n",
       "      <td>47</td>\n",
       "      <td>0</td>\n",
       "      <td>9</td>\n",
       "    </tr>\n",
       "    <tr>\n",
       "      <th>32</th>\n",
       "      <td>NaN</td>\n",
       "      <td>Thailand</td>\n",
       "      <td>2020-02-11 18:43:04</td>\n",
       "      <td>33</td>\n",
       "      <td>0</td>\n",
       "      <td>10</td>\n",
       "    </tr>\n",
       "    <tr>\n",
       "      <th>33</th>\n",
       "      <td>NaN</td>\n",
       "      <td>Japan</td>\n",
       "      <td>2020-02-12 02:43:03</td>\n",
       "      <td>28</td>\n",
       "      <td>0</td>\n",
       "      <td>9</td>\n",
       "    </tr>\n",
       "  </tbody>\n",
       "</table>\n",
       "</div>"
      ],
      "text/plain": [
       "                  Province/State Country/Region          Last Update  \\\n",
       "18  Diamond Princess cruise ship         Others  2020-02-12 04:23:38   \n",
       "30                     Hong Kong      Hong Kong  2020-02-12 09:53:02   \n",
       "31                           NaN      Singapore  2020-02-11 16:43:06   \n",
       "32                           NaN       Thailand  2020-02-11 18:43:04   \n",
       "33                           NaN          Japan  2020-02-12 02:43:03   \n",
       "\n",
       "    Confirmed  Deaths  Recovered  \n",
       "18        175       0          0  \n",
       "30         50       1          1  \n",
       "31         47       0          9  \n",
       "32         33       0         10  \n",
       "33         28       0          9  "
      ]
     },
     "execution_count": 17,
     "metadata": {},
     "output_type": "execute_result"
    }
   ],
   "source": [
    "everywhere_else.head()"
   ]
  },
  {
   "cell_type": "code",
   "execution_count": 21,
   "metadata": {},
   "outputs": [],
   "source": [
    "china_deaths = mainland_china[\"Deaths\"]"
   ]
  },
  {
   "cell_type": "code",
   "execution_count": 29,
   "metadata": {},
   "outputs": [
    {
     "data": {
      "text/plain": [
       "0.02495132812674827"
      ]
     },
     "execution_count": 29,
     "metadata": {},
     "output_type": "execute_result"
    }
   ],
   "source": [
    "sum(china_deaths)/sum(mainland_china.Confirmed)"
   ]
  },
  {
   "cell_type": "code",
   "execution_count": 28,
   "metadata": {},
   "outputs": [
    {
     "data": {
      "text/plain": [
       "0.0038535645472061657"
      ]
     },
     "execution_count": 28,
     "metadata": {},
     "output_type": "execute_result"
    }
   ],
   "source": [
    "sum(everywhere_else.Deaths)/sum(everywhere_else.Confirmed)"
   ]
  },
  {
   "cell_type": "code",
   "execution_count": 30,
   "metadata": {},
   "outputs": [
    {
     "data": {
      "text/plain": [
       "42"
      ]
     },
     "execution_count": 30,
     "metadata": {},
     "output_type": "execute_result"
    }
   ],
   "source": [
    "len(everywhere_else.Confirmed)"
   ]
  },
  {
   "cell_type": "code",
   "execution_count": 27,
   "metadata": {},
   "outputs": [
    {
     "data": {
      "text/plain": [
       "44687"
      ]
     },
     "execution_count": 27,
     "metadata": {},
     "output_type": "execute_result"
    }
   ],
   "source": [
    "sum(mainland_china.Confirmed)"
   ]
  },
  {
   "cell_type": "markdown",
   "metadata": {},
   "source": [
    "So, now the question that has been on everyone's mind is whether the Chinese Government is understating the number of cases or the mortality. There's good reason to suspect the number of confirmed cases might be understated, for two reasons:\n",
    "1. It appears that there are many cases of infection by COVID-19 that aren't being reported. There are several reasons for that:\n",
    "    - a mild case of COVID-19 is pretty much indistinguishable from a common cold. (In fact, coronaviruses account for many of the cases of the \"common cold\" — \"common cold\" is a description of a syndrome that can be caused by many different viruses.)\n",
    "    - If you have a \"cold\" and visit a doctor, and it's confirmed to be COVID-19, you may be confined to a makeshift quarantine hospital.\n",
    "    - The Chinese government is encouraging people with only mild symptoms not to overload the already-stressed medical facilities.\n",
    "2. Simulations based on cases _outside_ China (reported by [Gardner and others](https://systems.jhu.edu/research/public-health/ncov-model-2/)) and including the best observed estimates of $R_0$ suggest that the number of real infections is considerably larger — perhaps as much as 10 times larger — than the reported number of confirmed infections."
   ]
  },
  {
   "cell_type": "markdown",
   "metadata": {},
   "source": [
    "Now, Gardner's paper mentions several reasons why their estimate might be high or low, so let's look at all three cases."
   ]
  },
  {
   "cell_type": "code",
   "execution_count": null,
   "metadata": {},
   "outputs": [],
   "source": []
  }
 ],
 "metadata": {
  "kernelspec": {
   "display_name": "Python 3",
   "language": "python",
   "name": "python3"
  },
  "language_info": {
   "codemirror_mode": {
    "name": "ipython",
    "version": 3
   },
   "file_extension": ".py",
   "mimetype": "text/x-python",
   "name": "python",
   "nbconvert_exporter": "python",
   "pygments_lexer": "ipython3",
   "version": "3.8.0-final"
  }
 },
 "nbformat": 4,
 "nbformat_minor": 4
}